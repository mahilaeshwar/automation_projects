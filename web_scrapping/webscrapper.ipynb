{
 "cells": [
  {
   "cell_type": "code",
   "execution_count": null,
   "metadata": {},
   "outputs": [],
   "source": [
    "! pip install requests\n",
    "! pip install bs4\n",
    "! pip install pdfkit\n",
    "! pip install pyhtml2pdf\n"
   ]
  },
  {
   "cell_type": "code",
   "execution_count": 27,
   "metadata": {},
   "outputs": [
    {
     "name": "stdout",
     "output_type": "stream",
     "text": [
      "35\n",
      "36\n",
      "(35, 2)\n"
     ]
    }
   ],
   "source": [
    "import requests\n",
    "from bs4 import BeautifulSoup\n",
    "import pandas as pd\n",
    "import time\n",
    "data = []\n",
    "certification_provider = 'databricks'\n",
    "exam_name = 'generative-ai-engineer'\n",
    "total_pages = 35\n",
    "print(total_pages)\n",
    "\n",
    "url = f'https://www.examtopics.com/discussions/{certification_provider}/' #'https://www.examtopics.com/discussions/google/2/'\n",
    "reqs = requests.get(url)\n",
    "soup = BeautifulSoup(reqs.text, 'html.parser')\n",
    "select_element = soup.find('select')\n",
    "options = select_element.find_all('option')\n",
    "if options:\n",
    "\t# Extract values and convert to numbers (assuming numeric values)\n",
    "\tvalues = []\n",
    "\tfor option in options:\n",
    "\t\ttry:\n",
    "\t\t\tvalue = int(option.get('value', '0'))\n",
    "\t\t\tvalues.append(value)\n",
    "\t\texcept ValueError:\n",
    "\t\t\t# Skip non-numeric values\n",
    "\t\t\tcontinue\n",
    "\n",
    "\t# Return the maximum value if values exist\n",
    "\tif values:\n",
    "\t\ttotal_pages = max(values)\n",
    "\t\tprint(total_pages)\n",
    "\telse:\n",
    "\t\tNone\n",
    "\n",
    "for i in range(1,total_pages):\n",
    "    # print(i)\n",
    "\turl = f'https://www.examtopics.com/discussions/{certification_provider}/{i}/' #'https://www.examtopics.com/discussions/google/2/'\n",
    "\treqs = requests.get(url)\n",
    "\tsoup = BeautifulSoup(reqs.text, 'html.parser')\n",
    "\turls = []\n",
    "\tfor link in soup.find_all('a'):\n",
    "\t\ttmp = str(link.get('href'))\n",
    "\t\tif exam_name in tmp:\n",
    "\t\t\tdat = {}\n",
    "\t\t\ttmp_b = f'https://www.examtopics.com/discussions/{certification_provider}/view/'+tmp.split('/')[-2]\n",
    "\t\t\tdat['qno'] = tmp_b.split('-')[-1]\n",
    "\t\t\tdat['link'] = tmp_b\n",
    "\t\t\tdata.append(dat)\n",
    "\t\t\t# print(tmp)\n",
    "\t\telse:\n",
    "\t\t\tpass\n",
    "\t\t# print()\n",
    "\t# time.sleep(5)\n",
    "\n",
    "df = pd.DataFrame(data)\n",
    "print(df.shape)\n"
   ]
  },
  {
   "cell_type": "code",
   "execution_count": 7,
   "metadata": {},
   "outputs": [
    {
     "data": {
      "text/html": [
       "<div>\n",
       "<style scoped>\n",
       "    .dataframe tbody tr th:only-of-type {\n",
       "        vertical-align: middle;\n",
       "    }\n",
       "\n",
       "    .dataframe tbody tr th {\n",
       "        vertical-align: top;\n",
       "    }\n",
       "\n",
       "    .dataframe thead th {\n",
       "        text-align: right;\n",
       "    }\n",
       "</style>\n",
       "<table border=\"1\" class=\"dataframe\">\n",
       "  <thead>\n",
       "    <tr style=\"text-align: right;\">\n",
       "      <th></th>\n",
       "      <th>qno</th>\n",
       "      <th>link</th>\n",
       "    </tr>\n",
       "  </thead>\n",
       "  <tbody>\n",
       "    <tr>\n",
       "      <th>0</th>\n",
       "      <td>1</td>\n",
       "      <td>https://www.examtopics.com/discussions/databri...</td>\n",
       "    </tr>\n",
       "    <tr>\n",
       "      <th>1</th>\n",
       "      <td>1</td>\n",
       "      <td>https://www.examtopics.com/discussions/databri...</td>\n",
       "    </tr>\n",
       "    <tr>\n",
       "      <th>2</th>\n",
       "      <td>1</td>\n",
       "      <td>https://www.examtopics.com/discussions/databri...</td>\n",
       "    </tr>\n",
       "  </tbody>\n",
       "</table>\n",
       "</div>"
      ],
      "text/plain": [
       "  qno                                               link\n",
       "0   1  https://www.examtopics.com/discussions/databri...\n",
       "1   1  https://www.examtopics.com/discussions/databri...\n",
       "2   1  https://www.examtopics.com/discussions/databri..."
      ]
     },
     "execution_count": 7,
     "metadata": {},
     "output_type": "execute_result"
    }
   ],
   "source": [
    "df.head(3)"
   ]
  },
  {
   "cell_type": "code",
   "execution_count": 5,
   "metadata": {},
   "outputs": [],
   "source": [
    "df.to_excel('databricks_genai_questions.xlsx',index=False)"
   ]
  },
  {
   "cell_type": "code",
   "execution_count": 5,
   "metadata": {},
   "outputs": [],
   "source": [
    "import time\n"
   ]
  },
  {
   "cell_type": "code",
   "execution_count": 17,
   "metadata": {},
   "outputs": [
    {
     "name": "stdout",
     "output_type": "stream",
     "text": [
      "[{'qno': '295', 'link': 'https://www.examtopics.com/discussions/google/view/130309-exam-professional-data-engineer-topic-1-question-295'}]\n"
     ]
    }
   ],
   "source": [
    "data = []\n",
    "dat = {}\n",
    "a = '/discussions/google/view/130309-exam-professional-data-engineer-topic-1-question-295/'\n",
    "b = 'https://www.examtopics.com/discussions/google/view/'+a.split('/')[-2]\n",
    "\n",
    "dat['qno'] = b.split('-')[-1]\n",
    "dat['link'] = b\n",
    "data.append(dat)\n",
    "print(data)\n"
   ]
  },
  {
   "cell_type": "code",
   "execution_count": null,
   "metadata": {},
   "outputs": [],
   "source": [
    "url = 'https://www.examtopics.com/discussions/google/view/130309-exam-professional-data-engineer-topic-1-question-295'\n",
    "# reqs = requests.get(url)\n",
    "# soup = BeautifulSoup(reqs.text, 'html.parser')\n",
    "import pdfkit\n",
    "pdfkit.from_url(url, 'out.pdf')\n",
    "# urls = []\n",
    "# for link in soup.find_all('a'):\n",
    "# \ttmp = str(link.get('href'))\n",
    "# \tprint(tmp)"
   ]
  },
  {
   "cell_type": "code",
   "execution_count": null,
   "metadata": {},
   "outputs": [],
   "source": [
    "from pyhtml2pdf import converter\n",
    "url = df['link'].tolist()[0]\n",
    "print(url)\n",
    "converter.convert(url, 'sample.pdf')"
   ]
  },
  {
   "cell_type": "code",
   "execution_count": null,
   "metadata": {},
   "outputs": [],
   "source": []
  }
 ],
 "metadata": {
  "kernelspec": {
   "display_name": "Python 3",
   "language": "python",
   "name": "python3"
  },
  "language_info": {
   "codemirror_mode": {
    "name": "ipython",
    "version": 3
   },
   "file_extension": ".py",
   "mimetype": "text/x-python",
   "name": "python",
   "nbconvert_exporter": "python",
   "pygments_lexer": "ipython3",
   "version": "3.9.13"
  }
 },
 "nbformat": 4,
 "nbformat_minor": 2
}
